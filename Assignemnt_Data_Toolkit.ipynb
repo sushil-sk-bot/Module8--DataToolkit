{
  "nbformat": 4,
  "nbformat_minor": 0,
  "metadata": {
    "colab": {
      "provenance": []
    },
    "kernelspec": {
      "name": "python3",
      "display_name": "Python 3"
    },
    "language_info": {
      "name": "python"
    }
  },
  "cells": [
    {
      "cell_type": "code",
      "execution_count": null,
      "metadata": {
        "id": "r4z7gJ_5Hy7t"
      },
      "outputs": [],
      "source": [
        "#QSN1- What is NumPy, and why is it widely used in Python?\n",
        "'''\n",
        "Ans- NumPy (Numerical Python) is a fundamental library for numerical and scientific computing in\n",
        "     Python. It provides support for multi-dimensional arrays and matrices, along with a wide variety of\n",
        "     mathematical functions to operate on these arrays efficiently. NumPy serves as the backbone for\n",
        "     many scientific libraries in Python like Pandas, SciPy, and TensorFlow.\n",
        " Why NumPy is Widely Used:\n",
        "      1- Efficient Array Operations.\n",
        "      2- Vectorized Operations.\n",
        "      3- Broadcasting.\n",
        "      4- Performance.\n",
        "      5- Memory Efficiency.\n",
        "      6- Mathematical and Statistical Functions.\n",
        "      7- Multi-Dimensional Arrays.\n",
        "      '''"
      ]
    },
    {
      "cell_type": "code",
      "source": [
        "#QSN2-  How does broadcasting work in NumPy?\n",
        "'''\n",
        "Ans- Broadcasting in NumPy is a powerful mechanism that allows operations between arrays of different\n",
        "     shapes without explicitly reshaping or replicating data. It enables efficient computation by applying\n",
        "     operations element-wise, as if the arrays were of the same shape.\n",
        "     Example:\n",
        "     import numpy as np\n",
        "     a = np.array([1, 2, 3])\n",
        "     b = np.array([4, 5, 6])\n",
        "     print(a + b)  # Output: [5 7 9]\n",
        "     '''"
      ],
      "metadata": {
        "id": "ZeR5GPm7IXFG"
      },
      "execution_count": null,
      "outputs": []
    },
    {
      "cell_type": "code",
      "source": [
        "#QSN3- What is a Pandas DataFrame?\n",
        "'''\n",
        "Ans- A Pandas DataFrame is a two-dimensional, tabular data structure in the Pandas library, similar to an\n",
        "     Excel spreadsheet or SQL table. It is one of the most widely used data structures in Python for data\n",
        "     manipulation, analysis, and exploration. A DataFrame consists of rows and columns.\n",
        "     Example:\n",
        "     import pandas as pd\n",
        "\n",
        "     data = {\n",
        "    \"Name\": [\"Alice\", \"Bob\", \"Charlie\"],\n",
        "    \"Age\": [25, 30, 35],\n",
        "    \"City\": [\"New York\", \"Los Angeles\", \"Chicago\"]\n",
        "            }\n",
        "       df = pd.DataFrame(data)\n",
        "       print(df)\n",
        "   OutPut:\n",
        "      Name  Age         City\n",
        "0   Alice   25     New York\n",
        "1     Bob   30  Los Angeles\n",
        "2  Charlie   35      Chicago\n",
        "'''"
      ],
      "metadata": {
        "id": "VTPcQGLvIwuR"
      },
      "execution_count": null,
      "outputs": []
    },
    {
      "cell_type": "code",
      "source": [
        "#QSN4-  Explain the use of the groupby() method in Pandas?\n",
        "'''\n",
        "Ans- The groupby() method in Pandas is used to split, group, and then perform aggregations or\n",
        "     transformations on data within a DataFrame. It allows you to group data based on one or more\n",
        "     columns and then apply a function to each group independently.\n",
        "     Synatx:\n",
        "     DataFrame.groupby(by, axis=0, level=None, as_index=True, sort=True)\n",
        "\n",
        "     Example:\n",
        "     import pandas as pd\n",
        "\n",
        "# Example DataFrame\n",
        "data = {\n",
        "    \"Department\": [\"HR\", \"IT\", \"HR\", \"Finance\", \"IT\", \"Finance\"],\n",
        "    \"Employee\": [\"Alice\", \"Bob\", \"Charlie\", \"David\", \"Eve\", \"Frank\"],\n",
        "    \"Salary\": [5000, 6000, 5200, 7000, 5800, 7200]\n",
        "}\n",
        "df = pd.DataFrame(data)\n",
        "\n",
        "# Group by 'Department' and calculate mean salary\n",
        "grouped = df.groupby(\"Department\")[\"Salary\"].mean()\n",
        "print(grouped)\n",
        "\n",
        "OutPut:\n",
        "\n",
        "Department\n",
        "Finance    7100.0\n",
        "HR         5100.0\n",
        "IT         5900.0\n",
        "Name: Salary, dtype: float64\n",
        "'''"
      ],
      "metadata": {
        "id": "d0vEoEfCJNQK"
      },
      "execution_count": null,
      "outputs": []
    },
    {
      "cell_type": "code",
      "source": [
        "#QSN5- Why is Seaborn preferred for statistical visualizations?\n",
        "'''\n",
        "Ans- Seaborn is a Python library built on top of Matplotlib and is preferred for statistical visualizations\n",
        "     because it simplifies the creation of complex visualizations with minimal code while producing\n",
        "     aesthetically pleasing and informative plots. Seaborn integrates seamlessly with Pandas and NumPy,\n",
        "     making it ideal for exploratory data analysis and statistical visualizations.\n",
        "\n",
        "     Reasons Seaborn is Preferred for Statistical Visualizations:\n",
        "     1- High-Level Interface for Matplotlib.\n",
        "     2- Built-in Support for Statistical Analysis.\n",
        "     3- Automatic Aggregation and Grouping.\n",
        "     4- Improved Aesthetics and Themes.\n",
        "     5- Support for Complex Visualizations.\n",
        "     6- Integration with Pandas DataFrames.\n",
        "     7- Combining Multiple Plots.\n",
        "     '''"
      ],
      "metadata": {
        "id": "QJI2akZ7Jm3p"
      },
      "execution_count": null,
      "outputs": []
    },
    {
      "cell_type": "code",
      "source": [
        "#QSN6- What are the differences between NumPy arrays and Python lists?\n",
        "'''\n",
        "Ans- Data Type:\n",
        "    NumPy Arrays: Homogeneous (all elements must be of the same data type).\n",
        "    Python Lists: Heterogeneous (elements can have different data types).\n",
        "\n",
        "    Performance:\n",
        "    NumPy Arrays: Faster due to optimized C implementation and contiguous memory allocation.\n",
        "    Python Lists: Slower due to dynamic typing and additional overhead.\n",
        "\n",
        "    Memory Usage:\n",
        "\n",
        "    NumPy Arrays: More memory-efficient because of compact storage.\n",
        "    Python Lists: Higher memory consumption due to dynamic type storage.\n",
        "\n",
        "    Mathematical Operations:\n",
        "    NumPy Arrays: Supports vectorized operations (element-wise addition, multiplication, etc.).\n",
        "    Python Lists: Requires loops or list comprehensions for similar operations.\n",
        "\n",
        "    Multi-Dimensional Support:\n",
        "    NumPy Arrays: Direct support for multi-dimensional arrays (e.g., 2D, 3D arrays).\n",
        "    Python Lists: Uses nested lists, which are less efficient for multi-dimensional data.\n",
        "    '''"
      ],
      "metadata": {
        "id": "bbxFRWeDKKGy"
      },
      "execution_count": null,
      "outputs": []
    },
    {
      "cell_type": "code",
      "source": [
        "#QSN-7- What is a heatmap, and when should it be used?\n",
        "'''\n",
        "Ans- A heatmap is a graphical representation of data where individual values are represented by varying\n",
        "     colors. The colors indicate the magnitude of the data points, with warmer colors (like red or yellow)\n",
        "     often representing higher values and cooler colors (like blue or green) representing lower values.\n",
        "\n",
        "     When Should Heatmaps Be Used?\n",
        "     1- Visualizing Correlation Between Variables.\n",
        "     2- Identifying Patterns or Trends.\n",
        "     3- Highlighting Data Density.\n",
        "     4- Representing Matrix Data.\n",
        "     5- Tracking Performance Metrics.\n",
        "     6- Geographical Data Visualization.\n",
        "     '''"
      ],
      "metadata": {
        "id": "CKMvppuILTgR"
      },
      "execution_count": null,
      "outputs": []
    },
    {
      "cell_type": "code",
      "source": [
        "#QSN8-  What does the term “vectorized operation” mean in NumPy?\n",
        "'''\n",
        "Ans- A vectorized operation in NumPy refers to performing operations on entire arrays (or vectors)\n",
        "     element-wise without explicitly writing loops. It utilizes optimized low-level implementations (C or\n",
        "     Fortran) under the hood, enabling efficient and fast computations.\n",
        "     '''"
      ],
      "metadata": {
        "id": "3dXPX3fhLuO6"
      },
      "execution_count": null,
      "outputs": []
    },
    {
      "cell_type": "code",
      "source": [
        "#QSN9- How does Matplotlib differ from Plotly?\n",
        "'''\n",
        "Ans- 1- Library Type:\n",
        "     Matplotlib: A static, low-level plotting library for 2D and basic 3D visualizations.\n",
        "     Plotly: An interactive, high-level library for creating advanced visualizations.\n",
        "\n",
        "     2-  Interactivity:\n",
        "     Matplotlib:Primarily generates static plots.\n",
        "     Plotly: Generates interactive plots by default (zooming, panning, tooltips, etc.).\n",
        "\n",
        "     3- Ease of Use:\n",
        "     Matplotlib:Offers a lot of flexibility but requires more code and configuration for complex plots.\n",
        "     Plotly:High-level library with user-friendly syntax, allowing quick creation of complex visualizations.\n",
        "\n",
        "     4- Types of Visualizations:\n",
        "     Matplotlib:Basic plots: Line, bar, scatter, histogram, pie charts.\n",
        "     Plotly:Advanced and specialized visualizations: Interactive 3D plots, choropleth maps, heatmaps, candlestick charts, and more.\n",
        "\n",
        "     5-Output Formats:\n",
        "     Matplotlib:Primarily generates static image files (e.g., PNG, PDF, SVG).\n",
        "     Plotly:Generates HTML-based outputs that support interactive elements.\n",
        "     '''"
      ],
      "metadata": {
        "id": "R_fwQrRXL6oJ"
      },
      "execution_count": null,
      "outputs": []
    },
    {
      "cell_type": "code",
      "source": [
        "#QSN10- What is the significance of hierarchical indexing in Pandas?\n",
        "'''\n",
        "Ans- Significance of Hierarchical Indexing in Pandas:\n",
        "     Hierarchical indexing (also known as MultiIndex) in Pandas refers to the ability to use multiple levels\n",
        "     of indexing to organize data in a more structured way. This feature allows for more complex data\n",
        "     structures by enabling you to represent higher-dimensional data in a 2D format (e.g., a DataFrame).\n",
        "\n",
        "     Example:\n",
        "\n",
        "     import pandas as pd\n",
        "import numpy as np\n",
        "\n",
        "# Sample data for a DataFrame with hierarchical indexing\n",
        "data = {\n",
        "    'Sales': [250, 300, 400, 500, 600],\n",
        "    'Profit': [30, 40, 50, 60, 70]\n",
        "}\n",
        "\n",
        "# Create a MultiIndex\n",
        "index = pd.MultiIndex.from_tuples(\n",
        "    [('North', '2020-Q1'), ('North', '2020-Q2'),\n",
        "     ('South', '2020-Q1'), ('South', '2020-Q2'),\n",
        "     ('East', '2020-Q1')],\n",
        "    names=['Region', 'Quarter']\n",
        ")\n",
        "\n",
        "# Create the DataFrame\n",
        "df = pd.DataFrame(data, index=index)\n",
        "print(df)\n",
        "\n",
        "OutPut:\n",
        "\n",
        "               Sales  Profit\n",
        "Region Quarter\n",
        "North  2020-Q1     250      30\n",
        "       2020-Q2     300      40\n",
        "South  2020-Q1     400      50\n",
        "       2020-Q2     500      60\n",
        "East   2020-Q1     600      70\n",
        "'''"
      ],
      "metadata": {
        "id": "EMq3fSAMMqTI"
      },
      "execution_count": null,
      "outputs": []
    },
    {
      "cell_type": "code",
      "source": [
        "#QSN11- What is the role of Seaborn’s pairplot() function?\n",
        "'''\n",
        "Ans- Role of Seaborn’s pairplot() Function:\n",
        "     The pairplot() function in Seaborn is a powerful visualization tool for exploring pairwise\n",
        "     relationships in a dataset. It is particularly useful when dealing with multivariate data, where you\n",
        "     want to examine how different variables interact with each other.\n",
        "\n",
        "     Example:\n",
        "\n",
        "     import seaborn as sns\n",
        "import matplotlib.pyplot as plt\n",
        "\n",
        "# Load sample dataset (Iris dataset)\n",
        "df = sns.load_dataset(\"iris\")\n",
        "\n",
        "# Create a pairplot with hue based on species\n",
        "sns.pairplot(df, hue=\"species\")\n",
        "\n",
        "# Show the plot\n",
        "plt.show()\n",
        "'''"
      ],
      "metadata": {
        "id": "0mRtuMCuNAyY"
      },
      "execution_count": null,
      "outputs": []
    },
    {
      "cell_type": "code",
      "source": [
        "#QSN12- What is the purpose of the describe() function in Pandas?\n",
        "'''\n",
        "Ans- Purpose of the describe() Function in Pandas:\n",
        "     The describe() function in Pandas provides a summary of statistics for numerical (and categorical)\n",
        "     data in a DataFrame or Series. It is a useful method for exploratory data analysis (EDA) as it quickly\n",
        "     offers key insights into the distribution, spread, and central tendencies of the data.\n",
        "\n",
        "     Example:\n",
        "\n",
        "     import pandas as pd\n",
        "\n",
        "# Sample DataFrame\n",
        "data = {\n",
        "    'age': [25, 30, 35, 40, 45, None, 50],\n",
        "    'salary': [40000, 50000, 60000, 70000, 80000, 90000, None],\n",
        "    'gender': ['M', 'F', 'M', 'M', 'F', 'F', 'M']\n",
        "}\n",
        "\n",
        "df = pd.DataFrame(data)\n",
        "\n",
        "# Use describe to get summary statistics\n",
        "summary = df.describe()\n",
        "print(summary)\n",
        "'''"
      ],
      "metadata": {
        "id": "MeNv2EjfNUTh"
      },
      "execution_count": null,
      "outputs": []
    },
    {
      "cell_type": "code",
      "source": [
        "#QSN13- Why is handling missing data important in Pandas?\n",
        "'''\n",
        "Ans- Importance of Handling Missing Data in Pandas:\n",
        "     Handling missing data is a crucial step in the data preprocessing process, especially when working\n",
        "     with real-world datasets. In Pandas, missing data (often represented as NaN or None) can occur due\n",
        "     to various reasons, such as incomplete data collection, errors during data entry, or merging datasets.\n",
        "     Proper handling of missing data ensures that the analysis and results are accurate, consistent, and\n",
        "     meaningful.\n",
        "     '''"
      ],
      "metadata": {
        "id": "3z2PTTw8NlqK"
      },
      "execution_count": null,
      "outputs": []
    },
    {
      "cell_type": "code",
      "source": [
        "#QSN14- What are the benefits of using Plotly for data visualization?\n",
        "'''\n",
        "Ans- Benefits of Using Plotly for Data Visualization\":\n",
        "     Plotly is a powerful and interactive graphing library that is widely used for creating a variety of data\n",
        "     visualizations. It supports a broad range of chart types, including scatter plots, line charts, bar charts,\n",
        "     heatmaps, and more, with the added benefit of interactivity.\n",
        "     '''"
      ],
      "metadata": {
        "id": "2WJhj-e5N4l5"
      },
      "execution_count": null,
      "outputs": []
    },
    {
      "cell_type": "code",
      "source": [
        "#QSN15-  How does NumPy handle multidimensional arrays?\n",
        "'''\n",
        "Ans- NumPy handles multidimensional arrays through the ndarray (n-dimensional array) object, which is\n",
        "     a powerful feature that allows you to work with arrays of any number of dimensions. Here's how\n",
        "     NumPy handles multidimensional arrays:\n",
        "     1- N-dimensional Array (ndarray).\n",
        "     2-  Accessing Elements in Multidimensional Arrays.\n",
        "     3- Broadcasting in Multidimensional Arrays.\n",
        "     4- Operations on Multidimensional Arrays.\n",
        "     5- Functions for Multidimensional Arrays.\n",
        "     6- Efficient Storage of Multidimensional Arrays.\n",
        "     '''"
      ],
      "metadata": {
        "id": "HQLLDHv_OGt5"
      },
      "execution_count": null,
      "outputs": []
    },
    {
      "cell_type": "code",
      "source": [
        "#QSN16- What is the role of Bokeh in data visualization?\n",
        "'''\n",
        "Ans- Bokeh is a powerful interactive visualization library in Python designed for creating web-based data\n",
        "    visualizations. It focuses on enabling users to build visually rich, interactive, and real-time\n",
        "    visualizations that can be embedded into web applications, dashboards, or reports. Below are the\n",
        "    key roles and features of Bokeh in data visualization:\n",
        "    1-  Interactive Visualizations.\n",
        "    2- High-Quality Web-Based Visualizations.\n",
        "    3-  Integration with Other Tools.\n",
        "    4- Versatility in Visualization Types.\n",
        "    5- Customization and Styling.\n",
        "    '''"
      ],
      "metadata": {
        "id": "0vV98IvdOeJx"
      },
      "execution_count": null,
      "outputs": []
    },
    {
      "cell_type": "code",
      "source": [
        "#QSN17- Explain the difference between apply() and map() in Pandas?\n",
        "'''\n",
        "Ans- In Pandas, both apply() and map() are used for applying functions to DataFrame or Series\n",
        "     elements, but they differ in terms of their functionality, use cases, and how they handle the data.\n",
        "\n",
        "     In Pandas, both apply() and map() are used to apply functions to data, but they differ significantly\n",
        "     in terms of their functionality, scope, and use cases. The primary difference lies in the fact that\n",
        "     apply() can be used on both Series and DataFrames, whereas map() works only with Series. This\n",
        "     makes apply() more flexible when working with complex data structures like DataFrames, allowing\n",
        "     you to apply functions across rows or columns. On the other hand, map() is designed to handle\n",
        "     element-wise transformations, typically in a single column (Series), making it more suitable for\n",
        "     simpler operations like value replacements or mapping values based on a dictionary.\n",
        "     '''"
      ],
      "metadata": {
        "id": "1XQRMN7LO1FB"
      },
      "execution_count": null,
      "outputs": []
    },
    {
      "cell_type": "code",
      "source": [
        "#QSN18- What are some advanced features of NumPy?\n",
        "'''\n",
        "Ans- Some of these advanced features include:\n",
        "1- Broadcasting.\n",
        "2- Vectorization.\n",
        "3- Advanced Array Indexing.\n",
        "4- Linear Algebra Operations.\n",
        "5- Random Module.\n",
        "6- Strides and Memory Layout.\n",
        "7 - Universal Functions (ufuncs).\n",
        "'''"
      ],
      "metadata": {
        "id": "oiXyi667Pw7p"
      },
      "execution_count": null,
      "outputs": []
    },
    {
      "cell_type": "code",
      "source": [
        "#QSN19- How does Pandas simplify time series analysis?\n",
        "'''\n",
        "Ans- Pandas simplifies time series analysis by providing powerful, flexible, and easy-to-use tools that\n",
        "     make working with time-based data much more efficient. Some key features that help streamline\n",
        "     time series analysis in Pandas are:\n",
        "     1- Datetime Indexing.\n",
        "     2-  DateTime Conversion.\n",
        "     3- Resampling and Frequency Conversion.\n",
        "     4- Time-based Rolling Window Operations.\n",
        "     5 - Shifting and Lagging.\n",
        "     6- Handling Missing Data.\n",
        "     7- Date Range Creation.\n",
        "     '''"
      ],
      "metadata": {
        "id": "JCpex1D8QRb4"
      },
      "execution_count": null,
      "outputs": []
    },
    {
      "cell_type": "code",
      "source": [
        "#QSN20- What is the role of a pivot table in Pandas?\n",
        "'''\n",
        "Ans- Role and Benefits of Pivot Tables in Pandas:\n",
        "     1- Data Summarization:\n",
        "     2- Reorganizing Data:\n",
        "     3- Grouping and Aggregating:\n",
        "     4- Handling Multiple Aggregation Functions:\n",
        "     5- Handling Missing Data:\n",
        "     6- Multi-Level Pivot Tables:\n",
        "     '''"
      ],
      "metadata": {
        "id": "MGMhvGKRQ1BL"
      },
      "execution_count": null,
      "outputs": []
    },
    {
      "cell_type": "code",
      "source": [
        "#QSN21- Why is NumPy’s array slicing faster than Python’s list slicing?\n",
        "'''\n",
        "Ans- ere are the key reasons why NumPy slicing outperforms Python list slicing:\n",
        "1- Contiguous Memory Allocation:\n",
        "2- Less Overhead in NumPy:\n",
        "3- Vectorized Operations:\n",
        "4- Memory Management:\n",
        "5- Efficient Use of C and Fortran Libraries:\n",
        "'''"
      ],
      "metadata": {
        "id": "kitsrb2QRJDg"
      },
      "execution_count": null,
      "outputs": []
    },
    {
      "cell_type": "code",
      "source": [
        "#QSN22- What are some common use cases for Seaborn?\n",
        "'''\n",
        "Ans- 1- Visualizing Distributions:\n",
        "     2- Comparing Multiple Variables:\n",
        "     3-  Correlation Analysis:\n",
        "     4- Categorical Data Visualization:\n",
        "     5- Regression and Trend Lines:\n",
        "     6- Visualizing Relationships Between Variables:\n",
        "     7- Time Series Data Visualization:\n",
        "     '''"
      ],
      "metadata": {
        "id": "61be2ySBRbEJ"
      },
      "execution_count": null,
      "outputs": []
    },
    {
      "cell_type": "markdown",
      "source": [
        "PRACTICAL QUESTIONS:"
      ],
      "metadata": {
        "id": "jzqDs_C0Ryth"
      }
    },
    {
      "cell_type": "code",
      "source": [
        "#QSN1-  How do you create a 2D NumPy array and calculate the sum of each row?\n",
        "import numpy as np\n",
        "\n",
        "# Step 1: Create a 2D NumPy array\n",
        "arr = np.array([[1, 2, 3],\n",
        "                [4, 5, 6],\n",
        "                [7, 8, 9]])\n",
        "\n",
        "# Step 2: Calculate the sum of each row\n",
        "row_sums = np.sum(arr, axis=1)\n",
        "\n",
        "print(\"2D Array:\")\n",
        "print(arr)\n",
        "print(\"\\nSum of each row:\")\n",
        "print(row_sums)\n",
        "\n",
        "OutPut:\n",
        "\n",
        "2D Array:\n",
        "[[1 2 3]\n",
        " [4 5 6]\n",
        " [7 8 9]]\n",
        "\n",
        "Sum of each row:\n",
        "[ 6 15 24]"
      ],
      "metadata": {
        "id": "Fm1NTjyzR15i"
      },
      "execution_count": null,
      "outputs": []
    },
    {
      "cell_type": "code",
      "source": [
        "#QSN2- Write a Pandas script to find the mean of a specific column in a DataFram?\n",
        "'''\n",
        "Ans- import pandas as pd\n",
        "\n",
        "# Creating a sample DataFrame\n",
        "data = {\n",
        "    'Name': ['Alice', 'Bob', 'Charlie', 'David', 'Eva'],\n",
        "    'Age': [25, 30, 35, 40, 45],\n",
        "    'Salary': [50000, 55000, 60000, 65000, 70000]\n",
        "}\n",
        "\n",
        "df = pd.DataFrame(data)\n",
        "\n",
        "# Calculating the mean of the 'Age' column\n",
        "mean_age = df['Age'].mean()\n",
        "\n",
        "# Printing the result\n",
        "print(f\"The mean age is: {mean_age}\")\n",
        "\n",
        "OutPut: The mean age is: 35.0\n",
        "'''"
      ],
      "metadata": {
        "id": "_EZKrZO9SFcQ"
      },
      "execution_count": null,
      "outputs": []
    },
    {
      "cell_type": "code",
      "source": [
        "#QSN3- Create a scatter plot using Matplotlib?\n",
        "\n",
        "import matplotlib.pyplot as plt\n",
        "\n",
        "# Sample data\n",
        "x = [1, 2, 3, 4, 5]\n",
        "y = [2, 3, 5, 7, 11]\n",
        "\n",
        "# Creating the scatter plot\n",
        "plt.scatter(x, y)\n",
        "\n",
        "# Adding title and labels\n",
        "plt.title('Simple Scatter Plot')\n",
        "plt.xlabel('X Values')\n",
        "plt.ylabel('Y Values')\n",
        "\n",
        "# Display the plot\n",
        "plt.show()"
      ],
      "metadata": {
        "colab": {
          "base_uri": "https://localhost:8080/",
          "height": 472
        },
        "id": "CFilFjsISRgI",
        "outputId": "58ac19ec-8479-4f98-edcf-bbb4c75ff360"
      },
      "execution_count": 2,
      "outputs": [
        {
          "output_type": "display_data",
          "data": {
            "text/plain": [
              "<Figure size 640x480 with 1 Axes>"
            ],
            "image/png": "[encoded data removed]"
          },
          "metadata": {}
        }
      ]
    },
    {
      "cell_type": "markdown",
      "source": [],
      "metadata": {
        "id": "ZA7oUiXjKmvq"
      }
    },
    {
      "cell_type": "code",
      "source": [
        "#QSN4- How do you calculate the correlation matrix using Seaborn and visualize it with a heatmap?\n",
        "'''Ans- '''\n",
        "import pandas as pd\n",
        "import seaborn as sns\n",
        "import matplotlib.pyplot as plt\n",
        "\n",
        "# Sample data\n",
        "data = {\n",
        "    'A': [1, 2, 3, 4, 5],\n",
        "    'B': [5, 4, 3, 2, 1],\n",
        "    'C': [2, 3, 4, 5, 6],\n",
        "    'D': [5, 6, 7, 8, 9]\n",
        "}\n",
        "\n",
        "# Create a DataFrame\n",
        "df = pd.DataFrame(data)\n",
        "\n",
        "# Step 1: Calculate the correlation matrix\n",
        "corr_matrix = df.corr()\n",
        "\n",
        "# Step 2: Visualize the correlation matrix using a heatmap\n",
        "sns.heatmap(corr_matrix, annot=True, cmap='coolwarm', fmt='.2f', cbar=True)\n",
        "\n",
        "# Adding a title to the plot\n",
        "plt.title('Correlation Matrix Heatmap')\n",
        "\n",
        "# Display the heatmap\n",
        "plt.show()"
      ],
      "metadata": {
        "id": "c8DPEdq7Sxnn"
      },
      "execution_count": null,
      "outputs": []
    },
    {
      "cell_type": "code",
      "source": [
        "#QSN5- Generate a bar plot using Plotly?\n",
        "\n",
        "'''Answ-'''\n",
        "import plotly.express as px\n",
        "\n",
        "# Sample data\n",
        "data = {\n",
        "    'Category': ['A', 'B', 'C', 'D', 'E'],\n",
        "    'Values': [10, 15, 7, 25, 18]\n",
        "}\n",
        "\n",
        "# Create a bar plot using Plotly\n",
        "fig = px.bar(data, x='Category', y='Values', title='Bar Plot Example')\n",
        "\n",
        "# Show the plot\n",
        "fig.show()"
      ],
      "metadata": {
        "colab": {
          "base_uri": "https://localhost:8080/",
          "height": 542
        },
        "id": "PHniU7cNS9eN",
        "outputId": "990c4554-9c1f-47ed-f052-f958f7375c0e"
      },
      "execution_count": 3,
      "outputs": [
        {
          "output_type": "display_data",
          "data": {
            "text/html": [
              "<html>\n",
              "<head><meta charset=\"utf-8\" /></head>\n",
              "<body>\n",
              "    <div>            <script src=\"https://cdnjs.cloudflare.com/ajax/libs/mathjax/2.7.5/MathJax.js?config=TeX-AMS-MML_SVG\"></script><script type=\"text/javascript\">if (window.MathJax && window.MathJax.Hub && window.MathJax.Hub.Config) {window.MathJax.Hub.Config({SVG: {font: \"STIX-Web\"}});}</script>                <script type=\"text/javascript\">window.PlotlyConfig = {MathJaxConfig: 'local'};</script>\n",
              "        <script charset=\"utf-8\" src=\"https://cdn.plot.ly/plotly-2.35.2.min.js\"></script>                <div id=\"dba30102-08dd-495f-8775-fbb894b1cec1\" class=\"plotly-graph-div\" style=\"height:525px; width:100%;\"></div>            <script type=\"text/javascript\">                                    window.PLOTLYENV=window.PLOTLYENV || {};                                    if (document.getElementById(\"dba30102-08dd-495f-8775-fbb894b1cec1\")) {                    Plotly.newPlot(                        \"dba30102-08dd-495f-8775-fbb894b1cec1\",                        [{\"alignmentgroup\":\"True\",\"hovertemplate\":\"Category=%{x}\\u003cbr\\u003eValues=%{y}\\u003cextra\\u003e\\u003c\\u002fextra\\u003e\",\"legendgroup\":\"\",\"marker\":{\"color\":\"#636efa\",\"pattern\":{\"shape\":\"\"}},\"name\":\"\",\"offsetgroup\":\"\",\"orientation\":\"v\",\"showlegend\":false,\"textposition\":\"auto\",\"x\":[\"A\",\"B\",\"C\",\"D\",\"E\"],\"xaxis\":\"x\",\"y\":[10,15,7,25,18],\"yaxis\":\"y\",\"type\":\"bar\"}],                        {\"template\":{\"data\":{\"histogram2dcontour\":[{\"type\":\"histogram2dcontour\",\"colorbar\":{\"outlinewidth\":0,\"ticks\":\"\"},\"colorscale\":[[0.0,\"#0d0887\"],[0.1111111111111111,\"#46039f\"],[0.2222222222222222,\"#7201a8\"],[0.3333333333333333,\"#9c179e\"],[0.4444444444444444,\"#bd3786\"],[0.5555555555555556,\"#d8576b\"],[0.6666666666666666,\"#ed7953\"],[0.7777777777777778,\"#fb9f3a\"],[0.8888888888888888,\"#fdca26\"],[1.0,\"#f0f921\"]]}],\"choropleth\":[{\"type\":\"choropleth\",\"colorbar\":{\"outlinewidth\":0,\"ticks\":\"\"}}],\"histogram2d\":[{\"type\":\"histogram2d\",\"colorbar\":{\"outlinewidth\":0,\"ticks\":\"\"},\"colorscale\":[[0.0,\"#0d0887\"],[0.1111111111111111,\"#46039f\"],[0.2222222222222222,\"#7201a8\"],[0.3333333333333333,\"#9c179e\"],[0.4444444444444444,\"#bd3786\"],[0.5555555555555556,\"#d8576b\"],[0.6666666666666666,\"#ed7953\"],[0.7777777777777778,\"#fb9f3a\"],[0.8888888888888888,\"#fdca26\"],[1.0,\"#f0f921\"]]}],\"heatmap\":[{\"type\":\"heatmap\",\"colorbar\":{\"outlinewidth\":0,\"ticks\":\"\"},\"colorscale\":[[0.0,\"#0d0887\"],[0.1111111111111111,\"#46039f\"],[0.2222222222222222,\"#7201a8\"],[0.3333333333333333,\"#9c179e\"],[0.4444444444444444,\"#bd3786\"],[0.5555555555555556,\"#d8576b\"],[0.6666666666666666,\"#ed7953\"],[0.7777777777777778,\"#fb9f3a\"],[0.8888888888888888,\"#fdca26\"],[1.0,\"#f0f921\"]]}],\"heatmapgl\":[{\"type\":\"heatmapgl\",\"colorbar\":{\"outlinewidth\":0,\"ticks\":\"\"},\"colorscale\":[[0.0,\"#0d0887\"],[0.1111111111111111,\"#46039f\"],[0.2222222222222222,\"#7201a8\"],[0.3333333333333333,\"#9c179e\"],[0.4444444444444444,\"#bd3786\"],[0.5555555555555556,\"#d8576b\"],[0.6666666666666666,\"#ed7953\"],[0.7777777777777778,\"#fb9f3a\"],[0.8888888888888888,\"#fdca26\"],[1.0,\"#f0f921\"]]}],\"contourcarpet\":[{\"type\":\"contourcarpet\",\"colorbar\":{\"outlinewidth\":0,\"ticks\":\"\"}}],\"contour\":[{\"type\":\"contour\",\"colorbar\":{\"outlinewidth\":0,\"ticks\":\"\"},\"colorscale\":[[0.0,\"#0d0887\"],[0.1111111111111111,\"#46039f\"],[0.2222222222222222,\"#7201a8\"],[0.3333333333333333,\"#9c179e\"],[0.4444444444444444,\"#bd3786\"],[0.5555555555555556,\"#d8576b\"],[0.6666666666666666,\"#ed7953\"],[0.7777777777777778,\"#fb9f3a\"],[0.8888888888888888,\"#fdca26\"],[1.0,\"#f0f921\"]]}],\"surface\":[{\"type\":\"surface\",\"colorbar\":{\"outlinewidth\":0,\"ticks\":\"\"},\"colorscale\":[[0.0,\"#0d0887\"],[0.1111111111111111,\"#46039f\"],[0.2222222222222222,\"#7201a8\"],[0.3333333333333333,\"#9c179e\"],[0.4444444444444444,\"#bd3786\"],[0.5555555555555556,\"#d8576b\"],[0.6666666666666666,\"#ed7953\"],[0.7777777777777778,\"#fb9f3a\"],[0.8888888888888888,\"#fdca26\"],[1.0,\"#f0f921\"]]}],\"mesh3d\":[{\"type\":\"mesh3d\",\"colorbar\":{\"outlinewidth\":0,\"ticks\":\"\"}}],\"scatter\":[{\"fillpattern\":{\"fillmode\":\"overlay\",\"size\":10,\"solidity\":0.2},\"type\":\"scatter\"}],\"parcoords\":[{\"type\":\"parcoords\",\"line\":{\"colorbar\":{\"outlinewidth\":0,\"ticks\":\"\"}}}],\"scatterpolargl\":[{\"type\":\"scatterpolargl\",\"marker\":{\"colorbar\":{\"outlinewidth\":0,\"ticks\":\"\"}}}],\"bar\":[{\"error_x\":{\"color\":\"#2a3f5f\"},\"error_y\":{\"color\":\"#2a3f5f\"},\"marker\":{\"line\":{\"color\":\"#E5ECF6\",\"width\":0.5},\"pattern\":{\"fillmode\":\"overlay\",\"size\":10,\"solidity\":0.2}},\"type\":\"bar\"}],\"scattergeo\":[{\"type\":\"scattergeo\",\"marker\":{\"colorbar\":{\"outlinewidth\":0,\"ticks\":\"\"}}}],\"scatterpolar\":[{\"type\":\"scatterpolar\",\"marker\":{\"colorbar\":{\"outlinewidth\":0,\"ticks\":\"\"}}}],\"histogram\":[{\"marker\":{\"pattern\":{\"fillmode\":\"overlay\",\"size\":10,\"solidity\":0.2}},\"type\":\"histogram\"}],\"scattergl\":[{\"type\":\"scattergl\",\"marker\":{\"colorbar\":{\"outlinewidth\":0,\"ticks\":\"\"}}}],\"scatter3d\":[{\"type\":\"scatter3d\",\"line\":{\"colorbar\":{\"outlinewidth\":0,\"ticks\":\"\"}},\"marker\":{\"colorbar\":{\"outlinewidth\":0,\"ticks\":\"\"}}}],\"scattermapbox\":[{\"type\":\"scattermapbox\",\"marker\":{\"colorbar\":{\"outlinewidth\":0,\"ticks\":\"\"}}}],\"scatterternary\":[{\"type\":\"scatterternary\",\"marker\":{\"colorbar\":{\"outlinewidth\":0,\"ticks\":\"\"}}}],\"scattercarpet\":[{\"type\":\"scattercarpet\",\"marker\":{\"colorbar\":{\"outlinewidth\":0,\"ticks\":\"\"}}}],\"carpet\":[{\"aaxis\":{\"endlinecolor\":\"#2a3f5f\",\"gridcolor\":\"white\",\"linecolor\":\"white\",\"minorgridcolor\":\"white\",\"startlinecolor\":\"#2a3f5f\"},\"baxis\":{\"endlinecolor\":\"#2a3f5f\",\"gridcolor\":\"white\",\"linecolor\":\"white\",\"minorgridcolor\":\"white\",\"startlinecolor\":\"#2a3f5f\"},\"type\":\"carpet\"}],\"table\":[{\"cells\":{\"fill\":{\"color\":\"#EBF0F8\"},\"line\":{\"color\":\"white\"}},\"header\":{\"fill\":{\"color\":\"#C8D4E3\"},\"line\":{\"color\":\"white\"}},\"type\":\"table\"}],\"barpolar\":[{\"marker\":{\"line\":{\"color\":\"#E5ECF6\",\"width\":0.5},\"pattern\":{\"fillmode\":\"overlay\",\"size\":10,\"solidity\":0.2}},\"type\":\"barpolar\"}],\"pie\":[{\"automargin\":true,\"type\":\"pie\"}]},\"layout\":{\"autotypenumbers\":\"strict\",\"colorway\":[\"#636efa\",\"#EF553B\",\"#00cc96\",\"#ab63fa\",\"#FFA15A\",\"#19d3f3\",\"#FF6692\",\"#B6E880\",\"#FF97FF\",\"#FECB52\"],\"font\":{\"color\":\"#2a3f5f\"},\"hovermode\":\"closest\",\"hoverlabel\":{\"align\":\"left\"},\"paper_bgcolor\":\"white\",\"plot_bgcolor\":\"#E5ECF6\",\"polar\":{\"bgcolor\":\"#E5ECF6\",\"angularaxis\":{\"gridcolor\":\"white\",\"linecolor\":\"white\",\"ticks\":\"\"},\"radialaxis\":{\"gridcolor\":\"white\",\"linecolor\":\"white\",\"ticks\":\"\"}},\"ternary\":{\"bgcolor\":\"#E5ECF6\",\"aaxis\":{\"gridcolor\":\"white\",\"linecolor\":\"white\",\"ticks\":\"\"},\"baxis\":{\"gridcolor\":\"white\",\"linecolor\":\"white\",\"ticks\":\"\"},\"caxis\":{\"gridcolor\":\"white\",\"linecolor\":\"white\",\"ticks\":\"\"}},\"coloraxis\":{\"colorbar\":{\"outlinewidth\":0,\"ticks\":\"\"}},\"colorscale\":{\"sequential\":[[0.0,\"#0d0887\"],[0.1111111111111111,\"#46039f\"],[0.2222222222222222,\"#7201a8\"],[0.3333333333333333,\"#9c179e\"],[0.4444444444444444,\"#bd3786\"],[0.5555555555555556,\"#d8576b\"],[0.6666666666666666,\"#ed7953\"],[0.7777777777777778,\"#fb9f3a\"],[0.8888888888888888,\"#fdca26\"],[1.0,\"#f0f921\"]],\"sequentialminus\":[[0.0,\"#0d0887\"],[0.1111111111111111,\"#46039f\"],[0.2222222222222222,\"#7201a8\"],[0.3333333333333333,\"#9c179e\"],[0.4444444444444444,\"#bd3786\"],[0.5555555555555556,\"#d8576b\"],[0.6666666666666666,\"#ed7953\"],[0.7777777777777778,\"#fb9f3a\"],[0.8888888888888888,\"#fdca26\"],[1.0,\"#f0f921\"]],\"diverging\":[[0,\"#8e0152\"],[0.1,\"#c51b7d\"],[0.2,\"#de77ae\"],[0.3,\"#f1b6da\"],[0.4,\"#fde0ef\"],[0.5,\"#f7f7f7\"],[0.6,\"#e6f5d0\"],[0.7,\"#b8e186\"],[0.8,\"#7fbc41\"],[0.9,\"#4d9221\"],[1,\"#276419\"]]},\"xaxis\":{\"gridcolor\":\"white\",\"linecolor\":\"white\",\"ticks\":\"\",\"title\":{\"standoff\":15},\"zerolinecolor\":\"white\",\"automargin\":true,\"zerolinewidth\":2},\"yaxis\":{\"gridcolor\":\"white\",\"linecolor\":\"white\",\"ticks\":\"\",\"title\":{\"standoff\":15},\"zerolinecolor\":\"white\",\"automargin\":true,\"zerolinewidth\":2},\"scene\":{\"xaxis\":{\"backgroundcolor\":\"#E5ECF6\",\"gridcolor\":\"white\",\"linecolor\":\"white\",\"showbackground\":true,\"ticks\":\"\",\"zerolinecolor\":\"white\",\"gridwidth\":2},\"yaxis\":{\"backgroundcolor\":\"#E5ECF6\",\"gridcolor\":\"white\",\"linecolor\":\"white\",\"showbackground\":true,\"ticks\":\"\",\"zerolinecolor\":\"white\",\"gridwidth\":2},\"zaxis\":{\"backgroundcolor\":\"#E5ECF6\",\"gridcolor\":\"white\",\"linecolor\":\"white\",\"showbackground\":true,\"ticks\":\"\",\"zerolinecolor\":\"white\",\"gridwidth\":2}},\"shapedefaults\":{\"line\":{\"color\":\"#2a3f5f\"}},\"annotationdefaults\":{\"arrowcolor\":\"#2a3f5f\",\"arrowhead\":0,\"arrowwidth\":1},\"geo\":{\"bgcolor\":\"white\",\"landcolor\":\"#E5ECF6\",\"subunitcolor\":\"white\",\"showland\":true,\"showlakes\":true,\"lakecolor\":\"white\"},\"title\":{\"x\":0.05},\"mapbox\":{\"style\":\"light\"}}},\"xaxis\":{\"anchor\":\"y\",\"domain\":[0.0,1.0],\"title\":{\"text\":\"Category\"}},\"yaxis\":{\"anchor\":\"x\",\"domain\":[0.0,1.0],\"title\":{\"text\":\"Values\"}},\"legend\":{\"tracegroupgap\":0},\"title\":{\"text\":\"Bar Plot Example\"},\"barmode\":\"relative\"},                        {\"responsive\": true}                    ).then(function(){\n",
              "                            \n",
              "var gd = document.getElementById('dba30102-08dd-495f-8775-fbb894b1cec1');\n",
              "var x = new MutationObserver(function (mutations, observer) {{\n",
              "        var display = window.getComputedStyle(gd).display;\n",
              "        if (!display || display === 'none') {{\n",
              "            console.log([gd, 'removed!']);\n",
              "            Plotly.purge(gd);\n",
              "            observer.disconnect();\n",
              "        }}\n",
              "}});\n",
              "\n",
              "// Listen for the removal of the full notebook cells\n",
              "var notebookContainer = gd.closest('#notebook-container');\n",
              "if (notebookContainer) {{\n",
              "    x.observe(notebookContainer, {childList: true});\n",
              "}}\n",
              "\n",
              "// Listen for the clearing of the current output cell\n",
              "var outputEl = gd.closest('.output');\n",
              "if (outputEl) {{\n",
              "    x.observe(outputEl, {childList: true});\n",
              "}}\n",
              "\n",
              "                        })                };                            </script>        </div>\n",
              "</body>\n",
              "</html>"
            ]
          },
          "metadata": {}
        }
      ]
    },
    {
      "cell_type": "code",
      "source": [
        "#QSN6-  Create a DataFrame and add a new column based on an existing column?\n",
        "'''Ans-'''\n",
        "import pandas as pd\n",
        "\n",
        "# Create a sample DataFrame\n",
        "data = {\n",
        "    'Name': ['Alice', 'Bob', 'Charlie', 'David', 'Eva'],\n",
        "    'Age': [25, 30, 35, 40, 45],\n",
        "    'Salary': [50000, 55000, 60000, 65000, 70000]\n",
        "}\n",
        "\n",
        "df = pd.DataFrame(data)\n",
        "\n",
        "# Add a new column 'Salary_in_thousands' based on the 'Salary' column\n",
        "df['Salary_in_thousands'] = df['Salary'] / 1000\n",
        "\n",
        "# Display the updated DataFrame\n",
        "print(df)"
      ],
      "metadata": {
        "colab": {
          "base_uri": "https://localhost:8080/"
        },
        "id": "1wZUtmHkTI0W",
        "outputId": "fbc969e0-d6cd-41bd-dcf6-7d582ea8fb0f"
      },
      "execution_count": 4,
      "outputs": [
        {
          "output_type": "stream",
          "name": "stdout",
          "text": [
            "      Name  Age  Salary  Salary_in_thousands\n",
            "0    Alice   25   50000                 50.0\n",
            "1      Bob   30   55000                 55.0\n",
            "2  Charlie   35   60000                 60.0\n",
            "3    David   40   65000                 65.0\n",
            "4      Eva   45   70000                 70.0\n"
          ]
        }
      ]
    },
    {
      "cell_type": "code",
      "source": [
        "#QSN7- Write a program to perform element-wise multiplication of two NumPy arrays?\n",
        "'''Ans-'''\n",
        "import numpy as np\n",
        "\n",
        "# Create two NumPy arrays\n",
        "array1 = np.array([1, 2, 3, 4, 5])\n",
        "array2 = np.array([5, 4, 3, 2, 1])\n",
        "\n",
        "# Perform element-wise multiplication\n",
        "result = array1 * array2\n",
        "\n",
        "# Print the result\n",
        "print(\"Element-wise multiplication result:\", result)"
      ],
      "metadata": {
        "colab": {
          "base_uri": "https://localhost:8080/"
        },
        "id": "1JnJIADxTYUd",
        "outputId": "ca8c9f2f-b6ed-4927-8029-39bb89d11a3d"
      },
      "execution_count": 5,
      "outputs": [
        {
          "output_type": "stream",
          "name": "stdout",
          "text": [
            "Element-wise multiplication result: [5 8 9 8 5]\n"
          ]
        }
      ]
    },
    {
      "cell_type": "code",
      "source": [],
      "metadata": {
        "id": "BtpNO4y_Tjcz"
      },
      "execution_count": null,
      "outputs": []
    },
    {
      "cell_type": "code",
      "source": [
        "#QSN8-  Create a line plot with multiple lines using Matplotlib?\n",
        "'''And'''\n",
        "\n",
        "import matplotlib.pyplot as plt\n",
        "\n",
        "# Sample data for multiple lines\n",
        "x = [1, 2, 3, 4, 5]\n",
        "y1 = [1, 4, 9, 16, 25]\n",
        "y2 = [25, 20, 15, 10, 5]\n",
        "\n",
        "# Creating a line plot with multiple lines\n",
        "plt.plot(x, y1, label='Line 1', color='blue', marker='o')  # First line (y1)\n",
        "plt.plot(x, y2, label='Line 2', color='green', marker='s')  # Second line (y2)\n",
        "\n",
        "# Adding title and labels\n",
        "plt.title('Multiple Line Plot Example')\n",
        "plt.xlabel('X Axis')\n",
        "plt.ylabel('Y Axis')\n",
        "\n",
        "# Show legend to differentiate the lines\n",
        "plt.legend()\n",
        "\n",
        "# Display the plot\n",
        "plt.show()"
      ],
      "metadata": {
        "colab": {
          "base_uri": "https://localhost:8080/",
          "height": 472
        },
        "id": "Iwr_WRU9TkPI",
        "outputId": "8096d10a-b429-430d-de8a-4183d3853f72"
      },
      "execution_count": 6,
      "outputs": [
        {
          "output_type": "display_data",
          "data": {
            "text/plain": [
              "<Figure size 640x480 with 1 Axes>"
            ],
            "image/png": "[encoded data removed]"
          },
          "metadata": {}
        }
      ]
    },
    {
      "cell_type": "code",
      "source": [
        "#QSN9-  Generate a Pandas DataFrame and filter rows where a column value is greater than a threshold?\n",
        "'''Ans'''\n",
        "\n",
        "import pandas as pd\n",
        "\n",
        "# Create a sample DataFrame\n",
        "data = {\n",
        "    'Name': ['Alice', 'Bob', 'Charlie', 'David', 'Eva'],\n",
        "    'Age': [25, 30, 35, 40, 45],\n",
        "    'Salary': [50000, 55000, 60000, 65000, 70000]\n",
        "}\n",
        "\n",
        "df = pd.DataFrame(data)\n",
        "\n",
        "# Set a threshold for filtering rows where 'Salary' is greater than 60000\n",
        "threshold = 60000\n",
        "\n",
        "# Filter rows where 'Salary' is greater than the threshold\n",
        "filtered_df = df[df['Salary'] > threshold]\n",
        "\n",
        "# Display the filtered DataFrame\n",
        "print(filtered_df)"
      ],
      "metadata": {
        "colab": {
          "base_uri": "https://localhost:8080/"
        },
        "id": "Qh6IjTLETt3W",
        "outputId": "5447786e-100a-446e-f27c-adba67363cfb"
      },
      "execution_count": 7,
      "outputs": [
        {
          "output_type": "stream",
          "name": "stdout",
          "text": [
            "    Name  Age  Salary\n",
            "3  David   40   65000\n",
            "4    Eva   45   70000\n"
          ]
        }
      ]
    },
    {
      "cell_type": "code",
      "source": [
        "#QSN10- Create a histogram using Seaborn to visualize a distribution?\n",
        "'''Ans'''\n",
        "\n",
        "import seaborn as sns\n",
        "import matplotlib.pyplot as plt\n",
        "\n",
        "# Generate some sample data\n",
        "import numpy as np\n",
        "data = np.random.randn(1000)\n",
        "\n",
        "# Create a histogram using Seaborn\n",
        "sns.histplot(data, bins=30, color='blue', kde=True)  # kde=True adds a kernel density estimate\n",
        "\n",
        "# Add title and labels\n",
        "plt.title('Histogram of the Normal Distribution')\n",
        "plt.xlabel('Value')\n",
        "plt.ylabel('Frequency')\n",
        "\n",
        "# Show the plot\n",
        "plt.show()"
      ],
      "metadata": {
        "colab": {
          "base_uri": "https://localhost:8080/",
          "height": 472
        },
        "id": "HckIhcfuT3uX",
        "outputId": "6cb577d1-3308-4199-8d59-c21ce5bb309d"
      },
      "execution_count": 8,
      "outputs": [
        {
          "output_type": "display_data",
          "data": {
            "text/plain": [
              "<Figure size 640x480 with 1 Axes>"
            ],
            "image/png": "[encoded data removed]"
          },
          "metadata": {}
        }
      ]
    },
    {
      "cell_type": "code",
      "source": [
        "#QSN11-  Perform matrix multiplication using NumPy?\n",
        "'''ANS'''\n",
        "import numpy as np\n",
        "\n",
        "# Define two matrices\n",
        "matrix1 = np.array([[1, 2], [3, 4]])\n",
        "matrix2 = np.array([[5, 6], [7, 8]])\n",
        "\n",
        "# Perform matrix multiplication using np.dot() or the @ operator\n",
        "result = np.dot(matrix1, matrix2)  # or alternatively: result = matrix1 @ matrix2\n",
        "\n",
        "# Print the result\n",
        "print(\"Matrix multiplication result:\")\n",
        "print(result)"
      ],
      "metadata": {
        "colab": {
          "base_uri": "https://localhost:8080/"
        },
        "id": "ewIMqLO7T44I",
        "outputId": "b30b6cc5-c146-4d9f-f8ad-40f9fb32f14d"
      },
      "execution_count": 9,
      "outputs": [
        {
          "output_type": "stream",
          "name": "stdout",
          "text": [
            "Matrix multiplication result:\n",
            "[[19 22]\n",
            " [43 50]]\n"
          ]
        }
      ]
    },
    {
      "cell_type": "code",
      "source": [],
      "metadata": {
        "id": "8YfPw437UMoP"
      },
      "execution_count": null,
      "outputs": []
    }
  ]
}